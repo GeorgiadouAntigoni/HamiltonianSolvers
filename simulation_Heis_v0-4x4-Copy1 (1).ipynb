{
 "cells": [
  {
   "cell_type": "code",
   "execution_count": 1,
   "id": "0a1e619c-1a0b-466d-a247-10f35be97e58",
   "metadata": {},
   "outputs": [],
   "source": [
    "!pip install openfermion --quiet"
   ]
  },
  {
   "cell_type": "code",
   "execution_count": 2,
   "id": "e1b7e343-2398-436e-922e-39a75ad74f1a",
   "metadata": {},
   "outputs": [],
   "source": [
    "!pip install netket --quiet"
   ]
  },
  {
   "cell_type": "code",
   "execution_count": 6,
   "id": "702f2279-6073-4999-8a18-bef12841ba8a",
   "metadata": {},
   "outputs": [],
   "source": [
    "!pip install qiskit --quiet"
   ]
  },
  {
   "cell_type": "code",
   "execution_count": 1,
   "id": "40374013",
   "metadata": {},
   "outputs": [],
   "source": [
    "from openfermion.ops import FermionOperator\n",
    "from openfermion.transforms import get_fermion_operator, jordan_wigner\n",
    "from openfermion.linalg import get_ground_state, get_sparse_operator\n",
    "import numpy as np\n",
    "import scipy\n",
    "import scipy.linalg\n",
    "import netket as nk\n",
    "\n",
    "import json\n",
    "\n",
    "import matplotlib.pyplot as plt\n",
    "import time\n",
    "from openfermion.utils import commutator, count_qubits, hermitian_conjugated\n",
    "from scipy.sparse.linalg import eigsh,eigs\n",
    "from openfermion.linalg import get_sparse_operator, get_ground_state\n",
    "import openfermion as of\n",
    "from openfermion.ops import QubitOperator\n"
   ]
  },
  {
   "cell_type": "code",
   "execution_count": 2,
   "id": "cdd4d944",
   "metadata": {},
   "outputs": [],
   "source": [
    "class get_model():\n",
    "    def __init__(self,n_list,pbc,max_neighbor_order,model):\n",
    "        self.n_list=n_list\n",
    "        self.pbc=pbc\n",
    "        self.model=model\n",
    "        self.max_neighbor_order=max_neighbor_order\n",
    "        self.conv_dic={'t-J':'Ham_tJ','Heisenberg':'Ham_Heisenberg'}\n",
    "\n",
    "    def get_grid(self,draw=False):\n",
    "        '''\n",
    "        Generate 2D Lattice with nx and ny sites in x,y\n",
    "        option to set periodic boundary conditions and choose the number of nearest neighbors\n",
    "        '''\n",
    "        dim=self.n_list\n",
    "        NN=self.max_neighbor_order\n",
    "\n",
    "        g=nk.graph.Grid(extent=dim, pbc=self.pbc)\n",
    "        bv=g.basis_vectors\n",
    "        g_lat=nk.graph.Lattice(bv,pbc=self.pbc,extent=dim,max_neighbor_order=NN)\n",
    "        if draw:\n",
    "            g_lat.draw()\n",
    "        return g_lat\n",
    "    \n",
    "    \n",
    "\n",
    "    \n",
    "    def build_op(self,i,j,extra_qubit=True):\n",
    "        if extra_qubit:\n",
    "            Sx_str='Y'+str(0)+' '+'X'+str(i+1)+' '+'X'+str(j+1)\n",
    "            Sy_str='Y'+str(0)+' '+'Y'+str(i+1)+' '+'Y'+str(j+1)\n",
    "            Sz_str='Y'+str(0)+' '+'Z'+str(i+1)+' '+'Z'+str(j+1)\n",
    "        else:\n",
    "            Sx_str='X'+str(i)+' '+'X'+str(j)\n",
    "            Sy_str='Y'+str(i)+' '+'Y'+str(j)\n",
    "            Sz_str='Z'+str(i)+' '+'Z'+str(j)\n",
    "            \n",
    "            \n",
    "        \n",
    "        Sx=QubitOperator(Sx_str)\n",
    "        \n",
    "        Sy=QubitOperator(Sy_str)\n",
    "        \n",
    "        Sz=QubitOperator(Sz_str)\n",
    "        \n",
    "        return Sx+Sy+Sz\n",
    "    \n",
    "    \n",
    "    def sisj_2d(self,g,extra_qubit,verbose=False):\n",
    "        n_sites=len(g.sites)\n",
    "        #potential=QubitOperator()\n",
    "        k=0\n",
    "        potential=0*QubitOperator('X0 X1')\n",
    "        for gh in g.edges():\n",
    "            i=gh[0]\n",
    "            j=gh[1]\n",
    "            op=self.build_op(i,j,extra_qubit=extra_qubit)\n",
    "            op_rev=self.build_op(j,i,extra_qubit=extra_qubit)\n",
    "            potential+=op+op_rev\n",
    "            k+=1\n",
    "        return potential\n",
    "            \n",
    "\n",
    "    def get_potential_sisj(self,g,extra_qubit,verbose=False):\n",
    "        if g.ndim==2:\n",
    "            potential=self.sisj_2d(g,extra_qubit)\n",
    "            return potential\n",
    "    \n",
    "\n",
    "    \n",
    "    def Ham_Heisenberg(self,g,extra_qubit):\n",
    "        U=self.get_potential_sisj(g,extra_qubit)\n",
    "        H=U\n",
    "        return H\n",
    "    \n",
    "    def get_Hamiltonian(self,g,extra_qubit=True):\n",
    "        print(self.model)\n",
    "        if self.model in self.conv_dic.keys():\n",
    "            H=eval('self.'+self.conv_dic[self.model])(g,extra_qubit)\n",
    "            return H\n",
    "        else:\n",
    "            return print('error model not present')\n",
    "        \n",
    "    def sparse_diag(self,op,k=4,automatic_gs=False):\n",
    "        '''\n",
    "        input: OpenFermion Second quantized operator\n",
    "        output: eigenvalues and eigenvectors\n",
    "        '''\n",
    "        sparse_op = get_sparse_operator(op)\n",
    "        if automatic_gs:\n",
    "            E_gs=get_ground_state(sparse_op)\n",
    "            print('GS energy using OpenFermion built in',E_gs)\n",
    "        w,v=eigsh(sparse_op,k=k,which='SA')\n",
    "        print('lowest lying eigenvalues',np.sort(w))\n",
    "        idx = np.argsort(w)\n",
    "        w = w[idx]\n",
    "        v = v[:,idx]\n",
    "        return w,v,sparse_op\n",
    "    \n"
   ]
  },
  {
   "cell_type": "code",
   "execution_count": 3,
   "id": "18ff5b4f",
   "metadata": {},
   "outputs": [],
   "source": [
    "from scipy.linalg import cosm\n",
    "\n",
    "\n",
    "\n",
    "from openfermion.chem import MolecularData\n",
    "from openfermion.transforms import get_fermion_operator, jordan_wigner\n",
    "from openfermion.linalg import get_ground_state, get_sparse_operator\n",
    "import numpy\n",
    "import scipy\n",
    "import scipy.linalg\n",
    "from scipy.linalg import eigh\n",
    "\n",
    "\n",
    "\n",
    "\n",
    "\n",
    "def rescal_ham(Ham,wa_min,wa_max,beta=1.,alpha=0.):\n",
    "    num_qubits=Ham.num_qubits\n",
    "    eig_gap=wa_max-wa_min\n",
    "    Id=Id_op(num_qubits)\n",
    "    new_ham_1=Ham.mul((beta-alpha)/eig_gap)\n",
    "    new_ham_2=Id.mul(-(beta-alpha)*wa_min/eig_gap+alpha)\n",
    "    new_ham=new_ham_1.add(new_ham_2)\n",
    "    return new_ham\n",
    "\n",
    "def process_ham(Ham,check_eigen=True):\n",
    "    wa,v=eigh(Ham.to_matrix())\n",
    "    wa_max=max(wa)\n",
    "    wa_min=min(wa)\n",
    "    print(wa_max,wa_min)\n",
    "    Ham_resc=rescal_ham(Ham,wa_min,wa_max)\n",
    "    new_wa,new_v=eigh(Ham_resc.to_matrix())\n",
    "    new_wa_min=min(new_wa)\n",
    "    if check_eigen:\n",
    "        print('new min eigenvalue',new_wa_min,'; new max eigenvalue',max(new_wa))\n",
    "    #Ham_algo=build_ham_cirac(Ham_resc,new_wa_min)\n",
    "    return Ham_resc,new_wa,new_v\n"
   ]
  },
  {
   "cell_type": "code",
   "execution_count": 4,
   "id": "aa18312a",
   "metadata": {},
   "outputs": [],
   "source": [
    "def angular_momentum(g):\n",
    "    Sx=QubitOperator()\n",
    "    Sy=QubitOperator()\n",
    "    Sz=QubitOperator()\n",
    "    for i in g.nodes():\n",
    "        valx='X'+str(i)\n",
    "        valy='Y'+str(i)\n",
    "        valz='Z'+str(i)\n",
    "        Sx+=QubitOperator(valx,0.5)\n",
    "        Sy+=QubitOperator(valy,0.5)\n",
    "        Sz+=QubitOperator(valz,0.5)\n",
    "    return Sx,Sy,Sz\n",
    "\n",
    "from openfermion.linalg import eigenspectrum\n",
    "def Id_op_of(num_qubits):\n",
    "    val='I'\n",
    "    for i in range(num_qubits):\n",
    "        val+=' '+val\n",
    "    return QubitOperator(val)\n",
    "\n",
    "def rescal_ham_of(Ham,num_qubits,wa_min,wa_max,beta=1.,alpha=0.):\n",
    "    eig_gap=wa_max-wa_min\n",
    "    Id=QubitOperator.identity()#Id_op_of(num_qubits)\n",
    "    new_ham_1=Ham*((beta-alpha)/eig_gap)\n",
    "    new_ham_2=Id\n",
    "    const=(-(beta-alpha)*wa_min/eig_gap+alpha)\n",
    "    new_ham=new_ham_1+new_ham_2*const\n",
    "    return new_ham"
   ]
  },
  {
   "cell_type": "code",
   "execution_count": 5,
   "id": "e2a43022",
   "metadata": {},
   "outputs": [
    {
     "name": "stdout",
     "output_type": "stream",
     "text": [
      "Heisenberg\n"
     ]
    }
   ],
   "source": [
    "nx=3\n",
    "ny=3\n",
    "N=[nx,ny]\n",
    "max_neighbors=1\n",
    "M=get_model(N,True,max_neighbors,'Heisenberg')\n",
    "g=M.get_grid()\n",
    "H=M.get_Hamiltonian(g,extra_qubit=False)"
   ]
  },
  {
   "cell_type": "code",
   "execution_count": 19,
   "id": "644e0b12-067a-4e1e-a6d8-c58d238747f0",
   "metadata": {},
   "outputs": [],
   "source": [
    "print_H=False\n",
    "if print_H:\n",
    "    print(H)\n",
    "    "
   ]
  },
  {
   "cell_type": "code",
   "execution_count": 6,
   "id": "456db70e",
   "metadata": {},
   "outputs": [],
   "source": [
    "Sx,Sy,Sz=angular_momentum(g)\n",
    "S2=(Sx*Sx)+(Sy*Sy)+(Sz*Sz)\n",
    "from openfermion.linalg import qubit_operator_sparse as qos\n",
    "\n",
    "H_mat=qos(H)\n",
    "S2_mat=qos(S2)"
   ]
  },
  {
   "cell_type": "code",
   "execution_count": 7,
   "id": "8fc32dd4",
   "metadata": {},
   "outputs": [],
   "source": [
    "H_mat=qos(H)"
   ]
  },
  {
   "cell_type": "code",
   "execution_count": 8,
   "id": "9d7baf26",
   "metadata": {},
   "outputs": [],
   "source": [
    "from scipy.sparse.linalg import eigsh\n",
    "wn,vn=eigsh(H_mat,k=10,which='SA')\n",
    "wn_max,vn_max=eigsh(H_mat,k=3,which='LA')"
   ]
  },
  {
   "cell_type": "code",
   "execution_count": 9,
   "id": "54a385cd",
   "metadata": {},
   "outputs": [
    {
     "data": {
      "text/plain": [
       "-2.2628887099999986"
      ]
     },
     "execution_count": 9,
     "metadata": {},
     "output_type": "execute_result"
    }
   ],
   "source": [
    "-31.752014   +29.48912529"
   ]
  },
  {
   "cell_type": "code",
   "execution_count": 10,
   "id": "9550aabc",
   "metadata": {},
   "outputs": [
    {
     "data": {
      "text/plain": [
       "(array([-31.752014  , -31.752014  , -29.48912529, -31.752014  ,\n",
       "        -29.48912529, -31.752014  , -31.752014  , -31.752014  ,\n",
       "        -31.752014  , -31.752014  ]),\n",
       " array([36., 36., 36.]))"
      ]
     },
     "execution_count": 10,
     "metadata": {},
     "output_type": "execute_result"
    }
   ],
   "source": [
    "wn,wn_max"
   ]
  },
  {
   "cell_type": "code",
   "execution_count": 11,
   "id": "ca433558",
   "metadata": {},
   "outputs": [],
   "source": [
    "wa_min=wn[0]\n",
    "wa_max=wn_max[0]"
   ]
  },
  {
   "cell_type": "code",
   "execution_count": 12,
   "id": "bdfdcc36",
   "metadata": {},
   "outputs": [],
   "source": [
    "num_qubits=nx*ny\n",
    "new_H=rescal_ham_of(H,num_qubits,wa_min,wa_max,beta=1.,alpha=0.)"
   ]
  },
  {
   "cell_type": "code",
   "execution_count": 13,
   "id": "22d84f75",
   "metadata": {},
   "outputs": [],
   "source": [
    "new_H_mat=qos(new_H)"
   ]
  },
  {
   "cell_type": "code",
   "execution_count": 14,
   "id": "bfda9ea4",
   "metadata": {},
   "outputs": [],
   "source": [
    "w,v=eigsh(new_H_mat,k=10,which='SA')\n",
    "w_max,v_max=eigsh(new_H_mat,k=3,which='LA')"
   ]
  },
  {
   "cell_type": "code",
   "execution_count": 15,
   "id": "330cc1ec",
   "metadata": {},
   "outputs": [
    {
     "data": {
      "text/plain": [
       "array([4.47677933e-15, 4.48296621e-15, 4.41517529e-15, 4.38113857e-15,\n",
       "       4.39239896e-15, 4.38465655e-15, 4.48109599e-15, 4.43900787e-15,\n",
       "       3.33995784e-02, 3.33995784e-02])"
      ]
     },
     "execution_count": 15,
     "metadata": {},
     "output_type": "execute_result"
    }
   ],
   "source": [
    "w"
   ]
  },
  {
   "cell_type": "code",
   "execution_count": 16,
   "id": "34aa531a",
   "metadata": {},
   "outputs": [
    {
     "data": {
      "text/plain": [
       "0.033399578444578665"
      ]
     },
     "execution_count": 16,
     "metadata": {},
     "output_type": "execute_result"
    }
   ],
   "source": [
    "w2=list(np.sort(w))\n",
    "for wh in w2[1:]:\n",
    "    check=abs(wh-w2[0])\n",
    "    if abs(check)>1e-4:\n",
    "        test=check\n",
    "        break\n",
    "        \n",
    "test"
   ]
  },
  {
   "cell_type": "code",
   "execution_count": null,
   "id": "300c0294-852c-4bea-86b8-ecebff9b9702",
   "metadata": {},
   "outputs": [],
   "source": []
  },
  {
   "cell_type": "code",
   "execution_count": null,
   "id": "653420ee-5399-4330-a507-9f0ca3db9318",
   "metadata": {},
   "outputs": [],
   "source": []
  },
  {
   "cell_type": "code",
   "execution_count": null,
   "id": "db8adcc2",
   "metadata": {},
   "outputs": [],
   "source": []
  }
 ],
 "metadata": {
  "kernelspec": {
   "display_name": "Python 3 (ipykernel)",
   "language": "python",
   "name": "python3"
  },
  "language_info": {
   "codemirror_mode": {
    "name": "ipython",
    "version": 3
   },
   "file_extension": ".py",
   "mimetype": "text/x-python",
   "name": "python",
   "nbconvert_exporter": "python",
   "pygments_lexer": "ipython3",
   "version": "3.11.9"
  }
 },
 "nbformat": 4,
 "nbformat_minor": 5
}
